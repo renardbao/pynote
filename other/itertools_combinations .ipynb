{
 "cells": [
  {
   "cell_type": "markdown",
   "metadata": {},
   "source": [
    "## combinations(iterable, r):  \n",
    "\n",
    "返回由輸入iterable中元素組成長度為r的子序列。\n",
    "\n",
    "組合元組會以字典順序根據所輸入iterable的順序發出。因此，如果所輸入iterable是已排序的，組合元組也將按已排序的順序生成。\n",
    "\n",
    "即使元素的值相同，不同位置的元素也被認為是不同的。如果元素各自不同，那麼每個組合中沒有重複元素。\n",
    "* combinations('ABCD', 2) --> AB AC AD BC BD CD\n",
    "* combinations(range(4), 3) --> 012 013 023 123"
   ]
  },
  {
   "cell_type": "code",
   "execution_count": 5,
   "metadata": {},
   "outputs": [
    {
     "name": "stdout",
     "output_type": "stream",
     "text": [
      "[('A', 'B'), ('A', 'C'), ('A', 'D'), ('B', 'C'), ('B', 'D'), ('C', 'D')]\n"
     ]
    }
   ],
   "source": [
    "from itertools import combinations\n",
    "print(list(combinations('ABCD', 2)))"
   ]
  },
  {
   "cell_type": "code",
   "execution_count": 7,
   "metadata": {},
   "outputs": [
    {
     "name": "stdout",
     "output_type": "stream",
     "text": [
      "[('B', 'A'), ('B', 'C'), ('B', 'D'), ('A', 'C'), ('A', 'D'), ('C', 'D')]\n"
     ]
    }
   ],
   "source": [
    "print(list(combinations('BACD', 2)))"
   ]
  },
  {
   "cell_type": "code",
   "execution_count": 6,
   "metadata": {},
   "outputs": [
    {
     "name": "stdout",
     "output_type": "stream",
     "text": [
      "[(0, 1, 2), (0, 1, 3), (0, 2, 3), (1, 2, 3)]\n"
     ]
    }
   ],
   "source": [
    "print(list(combinations(range(4), 3)))"
   ]
  }
 ],
 "metadata": {
  "kernelspec": {
   "display_name": "mlLearn",
   "language": "python",
   "name": "mllearn"
  },
  "language_info": {
   "codemirror_mode": {
    "name": "ipython",
    "version": 3
   },
   "file_extension": ".py",
   "mimetype": "text/x-python",
   "name": "python",
   "nbconvert_exporter": "python",
   "pygments_lexer": "ipython3",
   "version": "3.7.1"
  },
  "toc": {
   "base_numbering": 1,
   "nav_menu": {},
   "number_sections": false,
   "sideBar": true,
   "skip_h1_title": false,
   "title_cell": "Table of Contents",
   "title_sidebar": "Contents",
   "toc_cell": false,
   "toc_position": {
    "height": "calc(100% - 180px)",
    "left": "10px",
    "top": "150px",
    "width": "245.76px"
   },
   "toc_section_display": true,
   "toc_window_display": true
  }
 },
 "nbformat": 4,
 "nbformat_minor": 4
}
